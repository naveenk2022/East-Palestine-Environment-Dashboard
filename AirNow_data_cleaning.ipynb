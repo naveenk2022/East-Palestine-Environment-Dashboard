{
 "cells": [
  {
   "cell_type": "code",
   "execution_count": null,
   "id": "311259cd-8eb6-4085-a65e-b68365c5c54f",
   "metadata": {},
   "outputs": [],
   "source": [
    "# Importing modules\n",
    "import pandas as pd\n",
    "from tqdm.notebook import tqdm, trange\n",
    "import time\n",
    "import geopandas as gpd\n",
    "import requests\n",
    "import matplotlib.pyplot as plt \n",
    "import io\n",
    "import os\n",
    "import math\n",
    "import warnings\n",
    "warnings.filterwarnings('ignore')"
   ]
  },
  {
   "cell_type": "code",
   "execution_count": null,
   "id": "e958f97c-bd1d-4109-99ec-bda600fc1a3b",
   "metadata": {},
   "outputs": [],
   "source": [
    "dat_completed = pd.read_csv(r\"..\\..\\PQHS_427_Proj_Data\\02_air_dat_merged.csv\")\n",
    "dat_remain = pd.read_csv(r\"..\\..\\PQHS_427_Proj_Data\\02_air_dat_remaining.csv\")"
   ]
  },
  {
   "cell_type": "code",
   "execution_count": null,
   "id": "a11e189c-6f3a-4c73-bd3f-9f9db0e00dac",
   "metadata": {},
   "outputs": [],
   "source": [
    "dat_2_merged = pd.concat([dat_completed, dat_remain], ignore_index=True).drop_duplicates()\n",
    "dat_2_merged"
   ]
  },
  {
   "cell_type": "code",
   "execution_count": null,
   "id": "63fe480c-07f7-49f7-ac55-fdcfa4185a43",
   "metadata": {},
   "outputs": [],
   "source": [
    "# A dataframe containing all the zip codes within the United States\n",
    "# Taking the centroid of the zip code areas\n",
    "zips = gpd.read_file(r\"..\\..\\PQHS_427_Proj_Data\\US Zip Codes\\tl_2020_us_zcta520.shp\")\n",
    "zips = zips.to_crs('EPSG:26917')\n",
    "zipCentroids = zips.centroid"
   ]
  },
  {
   "cell_type": "code",
   "execution_count": null,
   "id": "49134651-b9ef-4ba3-b0bf-70595100fc40",
   "metadata": {},
   "outputs": [],
   "source": [
    "# Geocoding the East Palestine train derailment\n",
    "crash_site_lat = []\n",
    "crash_site_long = []\n",
    "crash_site_name = []\n",
    "crash_site_name.append(\"east_palestine\")\n",
    "crash_site_lat.append(40.836)\n",
    "crash_site_long.append(-80.5227)\n",
    "crash_df = pd.DataFrame(crash_site_name, columns=['site_name'])\n",
    "crash_df['latitude'] = crash_site_lat\n",
    "crash_df['longitude'] = crash_site_long\n",
    "crash_df.longitude = crash_df['longitude'].astype(float)\n",
    "crash_df.latitude = crash_df['latitude'].astype(float)\n",
    "# Creating a geometry column using longitude and latitude data\n",
    "geometry = gpd.points_from_xy(crash_df.longitude, crash_df.latitude)\n",
    "# Creating a GeoDataFrame with the site data and the geometry column. CRS is set to EPSG:4269\n",
    "crash_gdf = gpd.GeoDataFrame(crash_df, geometry=geometry, crs=\"EPSG:4269\")"
   ]
  },
  {
   "cell_type": "code",
   "execution_count": null,
   "id": "c0575e64-49dc-40f5-81c9-036ff3e364e6",
   "metadata": {},
   "outputs": [],
   "source": [
    "# Reprojecting all the sites under study\n",
    "crash_gdf = crash_gdf.to_crs('EPSG:26917')\n",
    "zips = zips.to_crs('EPSG:26917')\n",
    "zipCentroids = zipCentroids.to_crs('EPSG:26917')\n"
   ]
  },
  {
   "cell_type": "code",
   "execution_count": null,
   "id": "4af026c8-e138-4ee4-9575-2fb9e739ab74",
   "metadata": {},
   "outputs": [],
   "source": [
    "# Creating a buffer zone of 30 miles around the crash site\n",
    "crashBuffer = crash_gdf.buffer(30*1609.34)\n",
    "# Finding the zip codes within the crash site buffer zone\n",
    "crash_zips = zips[zipCentroids.within(crashBuffer.geometry.values[0])]"
   ]
  },
  {
   "cell_type": "code",
   "execution_count": null,
   "id": "575c7e71-04dc-497b-bbc6-c4cfec590e0c",
   "metadata": {},
   "outputs": [],
   "source": [
    "crash_zips = crash_zips[['ZCTA5CE20','INTPTLAT20','INTPTLON20','geometry']]\n",
    "crash_zips.rename(columns={'ZCTA5CE20': 'Zipcode'}, inplace=True)\n",
    "crash_zips"
   ]
  },
  {
   "cell_type": "code",
   "execution_count": null,
   "id": "c86b0445-195d-4f37-800f-9216ef699234",
   "metadata": {},
   "outputs": [],
   "source": [
    "dat_2_merged = dat_2_merged.sort_values(by='DateObserved')"
   ]
  },
  {
   "cell_type": "code",
   "execution_count": null,
   "id": "aedbf2f5-0505-4e9e-a2bd-efee95ac965c",
   "metadata": {},
   "outputs": [],
   "source": [
    "dat_2_merged.to_csv(r\"..\\..\\PQHS_427_Proj_Data\\02_air_dat_merged.csv\")"
   ]
  },
  {
   "cell_type": "code",
   "execution_count": null,
   "id": "408367b4-a82e-42c5-9561-8c7e05e404b9",
   "metadata": {},
   "outputs": [],
   "source": [
    "pm25_2 = dat_2_merged[dat_2_merged['ParameterName'] == 'PM2.5']\n",
    "ozone_2 = dat_2_merged[dat_2_merged['ParameterName'] == 'OZONE']"
   ]
  },
  {
   "cell_type": "code",
   "execution_count": null,
   "id": "6055c2da-7fc5-4908-b437-d4d034f3d994",
   "metadata": {},
   "outputs": [],
   "source": [
    "date_list = pm25_2['DateObserved'].unique()\n",
    "pm25_2_grouped = pm25_2.groupby('DateObserved')\n",
    "ozone_2_grouped = ozone_2.groupby('DateObserved')"
   ]
  },
  {
   "cell_type": "code",
   "execution_count": null,
   "id": "7674fb6b-0c5e-4ef6-b2e9-fb5d02e34fd5",
   "metadata": {},
   "outputs": [],
   "source": [
    "pm25_df = pd.DataFrame(columns=['DateObserved','Zipcode','ParameterName', 'AQI'])\n",
    "\n",
    "for date in date_list:\n",
    "    pm25_date = pm25_2_grouped.get_group(date)\n",
    "    pm25_date['Zipcode'] = pm25_date['Zipcode'].astype(str)\n",
    "    pm25_date = pm25_date[['DateObserved','Zipcode', 'ParameterName', 'AQI']]\n",
    "    pm25_date = pm25_date.merge(crash_zips, left_on = 'Zipcode', right_on = 'Zipcode', how = 'left')\n",
    "    pm25_df = pd.concat([pm25_df, pm25_date], ignore_index=True).drop_duplicates()"
   ]
  },
  {
   "cell_type": "code",
   "execution_count": null,
   "id": "bd1f2b4f-c1d4-47d6-b0fd-42be516d62d7",
   "metadata": {},
   "outputs": [],
   "source": [
    "pm25_df['DateObserved'] = pd.to_datetime(pm25_df['DateObserved'])\n",
    "pm25_df['DateObserved'] = pm25_df['DateObserved'].astype(str)\n",
    "pm25_gdf = gpd.GeoDataFrame(pm25_df, geometry = 'geometry',crs = 'EPSG:26917')\n",
    "pm25_gdf"
   ]
  },
  {
   "cell_type": "code",
   "execution_count": null,
   "id": "72c2d72b-3d2a-452b-8e34-d6f96b62583c",
   "metadata": {},
   "outputs": [],
   "source": [
    "pm25_gdf.to_file(r\"D:\\PQHS_427_Final_Project\\Final_Dashboard\\PM2.5_grouped_by_date\\pm2.5_grouped_jan.shp\")"
   ]
  },
  {
   "cell_type": "code",
   "execution_count": null,
   "id": "69c8d0d4-07aa-41de-8b5b-1dec81b7faa8",
   "metadata": {},
   "outputs": [],
   "source": [
    "ozone_df = pd.DataFrame(columns=['DateObserved','Zipcode','ParameterName', 'AQI'])\n",
    "\n",
    "for date in date_list:\n",
    "    ozone_date = ozone_2_grouped.get_group(date)\n",
    "    ozone_date['Zipcode'] = ozone_date['Zipcode'].astype(str)\n",
    "    ozone_date = ozone_date[['DateObserved','Zipcode', 'ParameterName', 'AQI']]\n",
    "    ozone_date = ozone_date.merge(crash_zips, left_on = 'Zipcode', right_on = 'Zipcode', how = 'left')\n",
    "    ozone_df = pd.concat([pm25_df, pm25_date], ignore_index=True).drop_duplicates()\n",
    "ozone_df['DateObserved'] = pd.to_datetime(ozone_df['DateObserved'])\n",
    "ozone_df['DateObserved'] = ozone_df['DateObserved'].astype(str)\n",
    "ozone_gdf = gpd.GeoDataFrame(ozone_df, geometry = 'geometry',crs = 'EPSG:26917')\n",
    "ozone_gdf"
   ]
  },
  {
   "cell_type": "code",
   "execution_count": null,
   "id": "6bec24b8-048b-4f0f-ab9c-d5cc1c2aca1d",
   "metadata": {},
   "outputs": [],
   "source": [
    "ozone_gdf.to_file(r\"D:\\PQHS_427_Final_Project\\Final_Dashboard\\Ozone_grouped_by_date\\ozone_grouped_jan.shp\")"
   ]
  }
 ],
 "metadata": {
  "kernelspec": {
   "display_name": "Python 3 (ipykernel)",
   "language": "python",
   "name": "python3"
  },
  "language_info": {
   "codemirror_mode": {
    "name": "ipython",
    "version": 3
   },
   "file_extension": ".py",
   "mimetype": "text/x-python",
   "name": "python",
   "nbconvert_exporter": "python",
   "pygments_lexer": "ipython3",
   "version": "3.11.0"
  }
 },
 "nbformat": 4,
 "nbformat_minor": 5
}
